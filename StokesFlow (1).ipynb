{
 "cells": [
  {
   "cell_type": "markdown",
   "metadata": {},
   "source": [
    "***Méthodes numériques, PHYS-F302 (Module 5).***\n",
    "*********************************\n",
    "Stokes-flow in a square cavity.\n",
    "==\n",
    "### But #\n",
    "Etudier l'écoulement d'un fluide  dominé par les forces de viscosité dans une cavité rectangulaire.\n",
    "Pour ce faire, on va exprimer le problème en terme de:\n",
    "- la fonction de flot $\\psi$ qui représente les lignes de courant du fluide \n",
    "- et du vecteur de vorticité $\\omega$ qui caractérise l'écoulement \"tourbillonaire\" du fluide, c'est-à-dire l'écoulement suivant un mouvement de rotation autour d'un axe.\n",
    "\n",
    "### Principe #\n",
    "L'écoulement de n'importe quel fluide incompressible est décrit par l'équation de Navier-Stokes:\n",
    "\\begin{equation}\n",
    "\\frac{\\partial \\vec{v}}{\\partial t} + (\\vec{v} \\cdot \\vec{\\nabla}) \\vec{v} = -\\frac{1}{\\rho}\\vec{\\nabla} P + \\nu\\nabla^2 \\vec{v}\n",
    "\\end{equation}\n",
    "Où $\\vec{v}$ est la vitesse du fluide, $P$ est la pression, $\\rho$ est la densité et $\\nu$ est la viscosité cinématique: \n",
    "$\\nu=\\frac{\\mu}{\\rho}$ avec $\\mu$ la viscosité dynamique. On peut réécrire l'équation en terme de $u$ et $p$ la vitesse et la pression sans dimension:\n",
    "\\begin{equation}\n",
    "Re*\\left(\\frac{\\partial \\vec{u}}{\\partial t} + (\\vec{u} \\cdot \\vec{\\nabla}) \\vec{u} \\right) = -\\vec{\\nabla} p + \\nabla^2 \\vec{u}\n",
    "\\end{equation}\n",
    "où $Re=\\frac{\\rho V*L}{\\mu}$ est le nombre de Reynold (V est une vitesse caractéristique et L est une longueur caractéristique, ce qui permet que $u$ et $p$ soient sans dimension).\n",
    "Par définition, l'écoulement de Stokes (fluide où les forces de viscosité dominent) est défini par le domaine $Re << 1$.\n",
    "Pour résoudre l'équation, on se place dans l'approximation $Re≃0$.\n",
    "\n",
    "On définit la vorticité par: $$\\vec{\\omega}=\\vec{\\nabla} \\times \\vec{u}$$\n",
    "En remaniant l'équation de Navier-Stokes, elle devient: $$\\nabla^2\\vec{\\omega}=0$$\n",
    "### Equation à deux dimensions #\n",
    "On définit la fonction de flot $\\psi$ par:\n",
    "\\begin{align}\n",
    "\\frac{\\partial \\psi}{\\partial x}&=-u_{y}\\\\\n",
    "\\frac{\\partial \\psi}{\\partial y}&=u_{x}\n",
    "\\end{align}\n",
    "En deux dimension, la vitesse est entièrement comprise dans le plan XY et donc \n",
    "\\begin{equation}\n",
    "\\vec{\\omega}=\\omega \\vec{1}_{z} \\Rightarrow \\omega=\\frac{\\partial u_{y}}{\\partial x}-\\frac{\\partial u_{x}}{\\partial y}\n",
    "=-\\frac{\\partial^2 \\psi}{\\partial x^2} - \\frac{\\partial^2 \\psi}{\\partial y^2}\n",
    "\\end{equation}\n",
    "\\begin{equation}\n",
    "\\Leftrightarrow\n",
    "\\nabla^2 \\psi = -\\omega\n",
    "\\end{equation}\n",
    "### Problème à résoudre\n",
    "Nous allons donc résoudre les équations pour le flot et la vorticité dans un carré en deux dimensions. Le fluide est initialement au repos à l'intérieur du carré mais le bord supérieur du carré avance à une vitesse $u_{x}=1$, ce qui va entraîner le fluide et créer un flot non nul.\n",
    "On doit donc finalement résoudre le système couplé d'équations suivant:\n",
    "\\begin{equation}\n",
    "\\nabla^2 \\omega = 0\n",
    "\\end{equation}\n",
    "\n",
    "\\begin{equation}\n",
    "\\nabla^2 \\psi = -\\omega\n",
    "\\end{equation} \n",
    "Pour ce faire, nous allons utiliser les différentes méthodes itératives apprises dans ce module (itération de Jacobi, de Gauss-Seidel, SOR, Steepest Descent et Gradients conjugués).\n",
    "Ceci nous permettra d'une part d'interprèter physiquement le résultat et de comprendre comment s'écoule le fluide dans la cavité et d'autre part de tester ces différentes méthodes et de comparer leur convergence.\n",
    "\n"
   ]
  },
  {
   "cell_type": "markdown",
   "metadata": {},
   "source": [
    "## 1. Itération de Jacobi\n",
    "On commence par cette méthode parce que c'est la plus simple à comprendre. On verra ensuite qu'elle est peu efficace et on la comparera aux autres méthodes."
   ]
  },
  {
   "cell_type": "code",
   "execution_count": null,
   "metadata": {
    "collapsed": true
   },
   "outputs": [],
   "source": [
    "from matplotlib import pyplot\n",
    "import numpy\n",
    "%matplotlib inline\n",
    "from matplotlib import rcParams\n",
    "rcParams['font.family'] = 'serif'\n",
    "rcParams['font.size'] = 16"
   ]
  },
  {
   "cell_type": "code",
   "execution_count": null,
   "metadata": {
    "collapsed": true
   },
   "outputs": [],
   "source": [
    "from mpl_toolkits.mplot3d import Axes3D\n",
    "from matplotlib import cm"
   ]
  },
  {
   "cell_type": "code",
   "execution_count": null,
   "metadata": {
    "collapsed": true
   },
   "outputs": [],
   "source": [
    "import numba\n",
    "from numba import jit"
   ]
  },
  {
   "cell_type": "markdown",
   "metadata": {},
   "source": [
    "On définit ici deux fonctions qui vont nous permettre de visualiser notre solution, la première par un plot 3D et la seconde par une carte couleur en 2D:"
   ]
  },
  {
   "cell_type": "code",
   "execution_count": null,
   "metadata": {
    "collapsed": true
   },
   "outputs": [],
   "source": [
    "def plot_3D(x, y, p,title):\n",
    "\n",
    "    fig = pyplot.figure(figsize=(11,7), dpi=100)\n",
    "    ax = fig.gca(projection='3d')\n",
    "    X,Y = numpy.meshgrid(x,y)\n",
    "    surf = ax.plot_surface(X,Y,p[:], rstride=1, cstride=1, cmap=cm.viridis,\n",
    "            linewidth=0, antialiased=False)\n",
    "\n",
    "    ax.set_xlim(0,1)\n",
    "    ax.set_ylim(0,1)\n",
    "    ax.set_xlabel('$x$')\n",
    "    ax.set_ylabel('$y$')\n",
    "    ax.set_zlabel(title)\n",
    "    ax.view_init(30,45)"
   ]
  },
  {
   "cell_type": "code",
   "execution_count": null,
   "metadata": {
    "collapsed": true
   },
   "outputs": [],
   "source": [
    "def colormap(x,y,psi,title):\n",
    "\n",
    "    fig=pyplot.figure(figsize=(9,6))\n",
    "    X,Y = numpy.meshgrid(x,y)\n",
    "    pyplot.ylim(0,40)\n",
    "    pyplot.xlim(0,40)\n",
    "    pyplot.xlabel('x (dx)')\n",
    "    pyplot.ylabel('y (dy)')\n",
    "    pyplot.imshow(psi, cmap = cm.viridis)  \n",
    "    pyplot.title(title)\n",
    "    pyplot.colorbar();"
   ]
  },
  {
   "cell_type": "markdown",
   "metadata": {},
   "source": [
    "#### Paramètres du problème:\n",
    "Nous les définissons une fois pour toutes ici et sauf redéfinition, il seront valables pour toutes les méthodes."
   ]
  },
  {
   "cell_type": "code",
   "execution_count": null,
   "metadata": {
    "collapsed": true
   },
   "outputs": [],
   "source": [
    "nx = 41\n",
    "ny = 41\n",
    "\n",
    "l = 1.#length of the square in the x-direction \n",
    "h = 1.#length of the square in the y-direction\n",
    "\n",
    "dx = l/(nx-1)\n",
    "dy = h/(ny-1)\n",
    "\n",
    "l1_target = 1e-6\n",
    "l1_target2=1e-8"
   ]
  },
  {
   "cell_type": "markdown",
   "metadata": {},
   "source": [
    "Notre condition d'arrêt sera donnée en fonction de la norme L1 de la différence entre deux itérations successives:"
   ]
  },
  {
   "cell_type": "code",
   "execution_count": null,
   "metadata": {
    "collapsed": true
   },
   "outputs": [],
   "source": [
    "def L1norm(new, old):\n",
    "    norm = numpy.sum(numpy.abs(new-old))\n",
    "    return norm"
   ]
  },
  {
   "cell_type": "markdown",
   "metadata": {},
   "source": [
    "## Conditions au bord:\n",
    "Ces conditions sont valables pour toutes les méthodes.\n",
    "- $\\psi$ est nul sur les quatres bords du carré\n",
    "- $\\nabla^2 \\psi = -\\omega$\n",
    "\n",
    "#### TOP: $\\psi=0, \\frac{\\partial \\psi}{\\partial y}=1$\n",
    "\n",
    "\n",
    "$\\Rightarrow$\n",
    "$\\frac{\\partial \\psi^{2}}{\\partial y^{2}}=-\\omega$ \n",
    "\n",
    "$\\omega_{i,j}=\\frac{-1}{2\\Delta y^{2}}\\left(8\\psi_{i,j-1}-\\psi_{i,j-2}\\right)-\\frac{3}{\\Delta y}$\n",
    "\n",
    "#### RIGHT: $\\psi=0, \\frac{\\partial \\psi}{\\partial x}=0$\n",
    "\n",
    "\n",
    "$\\Rightarrow$\n",
    "$\\frac{\\partial \\psi^{2}}{\\partial x^{2}}=-\\omega$ \n",
    "\n",
    "$\\omega_{i,j}=\\frac{-1}{2\\Delta x^{2}}\\left(8\\psi_{i-1,j}-\\psi_{i-2,j}\\right)$\n",
    "\n",
    "#### LEFT: $\\psi=0, \\frac{\\partial \\psi}{\\partial x}=0$\n",
    "\n",
    "\n",
    "$\\Rightarrow$\n",
    "$\\frac{\\partial \\psi^{2}}{\\partial x^{2}}=-\\omega$ \n",
    "\n",
    "$\\omega_{i,j}=\\frac{-1}{2\\Delta x^{2}}\\left(8\\psi_{i+1,j}-\\psi_{i+2,j}\\right)$\n",
    "\n",
    "#### BOTTOM: $\\psi=0, \\frac{\\partial \\psi}{\\partial y}=0$\n",
    "\n",
    "\n",
    "$\\Rightarrow$\n",
    "$\\frac{\\partial \\psi^{2}}{\\partial y^{2}}=-\\omega$ \n",
    "\n",
    "$\\omega_{i,j}=\\frac{-1}{2\\Delta y^{2}}\\left(8\\psi_{i,j+1}-\\psi_{i,j+2}\\right)$\n",
    "\n",
    "\n",
    "\n"
   ]
  },
  {
   "cell_type": "markdown",
   "metadata": {},
   "source": [
    "#### Discrétisation des équations par la méthode de Jacobi:\n",
    "\\begin{equation}\n",
    "\\begin{aligned}\n",
    "\\nabla^2 \\omega = 0 &\\Rightarrow \\omega^{k+1}_{i,j} = \\frac{1}{4} \\left(\\omega^{k}_{i,j-1} + \\omega^k_{i,j+1} + \\omega^{k}_{i-1,j} + \\omega^k_{i+1,j} \\right)\\\\\n",
    "\\nabla^2 \\psi = -\\omega &\\Rightarrow \\psi_{i,j}^{k+1}=\\frac{(\\psi_{i+1,j}^{k}+\\psi_{i-1,j}^{k})\\Delta y^2+(\\psi_{i,j+1}^{k}+\\psi_{i,j-1}^{k})\\Delta x^2+\\omega_{i,j}^{k}\\Delta x^2\\Delta y^2}{2(\\Delta x^2+\\Delta y^2)}\n",
    "\\end{aligned}\n",
    "\\end{equation}"
   ]
  },
  {
   "cell_type": "code",
   "execution_count": null,
   "metadata": {
    "collapsed": true
   },
   "outputs": [],
   "source": [
    "def stokesjacobi(w,psi):\n",
    "\n",
    "    l1norm_w = 1\n",
    "    l1norm_psi=1\n",
    "    wn= numpy.empty_like(w)\n",
    "    psin=numpy.empty_like(psi)\n",
    "    iterations=0\n",
    "\n",
    "  \n",
    "    while (l1norm_w>l1_target or l1norm_psi>l1_target) :\n",
    "        \n",
    "        wn = w.copy()\n",
    "        psin=psi.copy()\n",
    "        w[1:-1,1:-1] = .25 * (wn[1:-1,2:] + wn[1:-1, :-2] \\\n",
    "                              + wn[2:, 1:-1] + wn[:-2, 1:-1])\n",
    "        \n",
    "        \n",
    "        psi[1:-1,1:-1] = 1/(2*(dx**2 + dy**2)) * \\\n",
    "                        ((psin[1:-1,2:]+psin[1:-1,:-2])*dy**2 +\\\n",
    "                        (psin[2:,1:-1] + psin[:-2,1:-1])*dx**2 +\\\n",
    "                         wn[1:-1,1:-1]*dx**2*dy**2)\n",
    "\n",
    "            \n",
    "        #BC on the edge of the square:\n",
    "        w[-1,:]=(-1/(dy)**2)*(4*psi[-2,:]-psi[-3,:]/2)-3.0/dy \n",
    "        w[0,:]=(-1/(dy)**2)*(4*psi[1,:]-psi[2,:]/2) \n",
    "        w[:,-1]=(-1/(dx)**2)*(4*psi[:,-2]-psi[:,-3]/2)\n",
    "        w[:,0]=(-1/(dx)**2)*(4*psi[:,1]-psi[:,2]/2)\n",
    "        \n",
    "        l1norm_w=L1norm(w,wn)\n",
    "        l1norm_psi=L1norm(psi,psin)\n",
    "        \n",
    "    \n",
    "        iterations += 1 \n",
    "        \n",
    "    \n",
    "    \n",
    "    print(iterations,l1norm_w,l1norm_psi)\n",
    "    \n",
    "    return psi,w"
   ]
  },
  {
   "cell_type": "code",
   "execution_count": null,
   "metadata": {
    "collapsed": false
   },
   "outputs": [],
   "source": [
    "%%timeit\n",
    "\n",
    "w_jac=numpy.zeros((ny,nx))\n",
    "psi_jac=numpy.zeros((ny,nx))\n",
    "w_jac[-1,:]=-3/dy\n",
    "\n",
    "psi_jac,w_jac= stokesjacobi(w_jac.copy(),psi_jac.copy())"
   ]
  },
  {
   "cell_type": "code",
   "execution_count": null,
   "metadata": {
    "collapsed": false
   },
   "outputs": [],
   "source": [
    "x = numpy.linspace(0,1,nx)\n",
    "y = numpy.linspace(0,1,ny)\n",
    "\n",
    "w_jac=numpy.zeros((nx,ny))\n",
    "psi_jac=numpy.zeros((nx,ny))\n",
    "w_jac[-1,:]=-3/dy\n",
    "\n",
    "psi_jac, w_jac= stokesjacobi(w_jac.copy(),psi_jac.copy())\n",
    "plot_3D(x,y,psi_jac,'Streamfunction')\n",
    "colormap(x,y,psi_jac,'Streamfunction')"
   ]
  },
  {
   "cell_type": "markdown",
   "metadata": {},
   "source": [
    "#### Jacobi avec Numba\n",
    "Avant toute chose, nous allons utiliser \"jit\" et numba pour améliorer notre code. Ils vont en fait compiler notre code et l'optimiser.\n",
    "Cela ne va pas changer le nombre d'itérations nécessaires qui est propre à la méthode mais cela devrait accélérer l'éxécution.\n",
    "Nous allons devoir utiliser des boucles pour permettre l'utilisation de Numba.\n",
    "\n",
    "D'autre part, nous souhaitons stocker les valeurs de la norme de $\\psi$ au cours des itérations successives dans le but d'examiner la convergence de nos différentes méthodes.\n",
    "Nous faisons donc en sorte que notre fonction crée désormais une liste contenant ces valeurs.\n",
    "Elle doit contenir au moins autant d'éléments que d'itérations (car on a une norme de $\\psi$ calculée par itération). Nous avons vu plus haut que le nombre d'itération pour Jacobi était de 4059. Ce nombre d'itérations devant diminuer pour les méthodes suivantes, nous partirons toujours d'une liste de 4060 éléments par la suite."
   ]
  },
  {
   "cell_type": "code",
   "execution_count": null,
   "metadata": {
    "collapsed": false
   },
   "outputs": [],
   "source": [
    "@jit(nopython=True)\n",
    "def stokesjacobi_bis(w,psi):\n",
    "\n",
    "    l1norm_w = 1\n",
    "    l1norm_psi=1\n",
    "    wn= numpy.empty_like(w)\n",
    "    psin=numpy.empty_like(psi)\n",
    "    normlist=numpy.zeros\n",
    "    iterations=0\n",
    "    normpsi_list=numpy.zeros(4060)\n",
    "  \n",
    "    while (l1norm_w>l1_target or l1norm_psi>l1_target) :\n",
    "        \n",
    "        l1norm_w=0\n",
    "        l1norm_psi=0\n",
    "        \n",
    "        for j in range(ny):\n",
    "            for i in range(nx):\n",
    "                wn[j,i] = w[j,i]\n",
    "                psin[j,i] = psi[j,i]\n",
    "                \n",
    "    \n",
    "        for j in range(1,ny-1):\n",
    "            for i in range(1,nx-1):\n",
    "                w[j,i] = .25 * (wn[j,i+1] + wn[j,i-1] \\\n",
    "                              + wn[j+1,i] + wn[j-1,i])\n",
    "        \n",
    "       \n",
    "                psi[j,i] = 1/(2*(dx**2 + dy**2)) * \\\n",
    "                        ((psin[j,i+1]+psin[j,i-1])*dy**2 +\\\n",
    "                        (psin[j+1,i] + psin[j-1,i])*dx**2 +\\\n",
    "                         wn[j,i]*dx**2*dy**2)\n",
    "            \n",
    "        ##B.C on the top of the square\n",
    "        for i in range(nx):\n",
    "            w[-1,i]=(-1/(dy)**2)*(4*psi[-2,i]-psi[-3,i]/2)-3.0/dy\n",
    "            w[0,i]=(-1/(dy)**2)*(4*psi[1,i]-psi[2,i]/2)  \n",
    "        for j in range(ny):\n",
    "            w[j,-1]=(-1/(dx)**2)*(4*psi[j,-2]-psi[j,-3]/2)\n",
    "            w[j,0]=(-1/(dx)**2)*(4*psi[j,1]-psi[j,2]/2)\n",
    "\n",
    "        for j in range(ny):\n",
    "            for i in range(nx):\n",
    "                l1norm_w += numpy.abs(w[j,i] - wn[j,i])\n",
    "                \n",
    "                l1norm_psi += numpy.abs(psi[j,i] - psin[j,i])\n",
    "                \n",
    "       \n",
    "        normpsi_list[iterations]= l1norm_psi\n",
    "    \n",
    "        iterations += 1 \n",
    "\n",
    "    iter_list = numpy.linspace(1,iterations,iterations-1)\n",
    "\n",
    "        \n",
    "        \n",
    "    print(iterations,l1norm_w,l1norm_psi)\n",
    "    return psi,w,iter_list,normpsi_list,iterations"
   ]
  },
  {
   "cell_type": "code",
   "execution_count": null,
   "metadata": {
    "collapsed": false
   },
   "outputs": [],
   "source": [
    "%%timeit\n",
    "\n",
    "w_jac2=numpy.zeros((ny,nx))\n",
    "psi_jac2=numpy.zeros((ny,nx))\n",
    "w_jac2[-1,:]=-3/dy\n",
    "\n",
    "psi_jac2,w_jac2,iterlist_jac,normpsilist_jac,iterations_jac= stokesjacobi_bis(w_jac2.copy(),psi_jac2.copy())"
   ]
  },
  {
   "cell_type": "markdown",
   "metadata": {},
   "source": [
    "Numba a divisé par dix le temps nécessaire à l'éxécution de notre code, ce qui est une bonne nouvelle. Comme prévu, le nombre d'itération est toujours le même."
   ]
  },
  {
   "cell_type": "code",
   "execution_count": null,
   "metadata": {
    "collapsed": false
   },
   "outputs": [],
   "source": [
    "x = numpy.linspace(0,1,nx)\n",
    "y = numpy.linspace(0,1,ny)\n",
    "\n",
    "w_jac2=numpy.zeros((nx,ny))\n",
    "psi_jac2=numpy.zeros((nx,ny))\n",
    "w_jac2[-1,:]=-3/dy\n",
    "\n",
    "psi_jac2, w_jac2,iterlist_jac, normpsilist_jac,iterations_jac= stokesjacobi_bis(w_jac2.copy(),psi_jac2.copy())\n",
    "plot_3D(x,y,psi_jac2,'Streamfunction')\n",
    "colormap(x,y,psi_jac2,'Streamfunction')"
   ]
  },
  {
   "cell_type": "markdown",
   "metadata": {},
   "source": [
    "## Vérification de notre solution:\n",
    "\n",
    "Afin de vérifier qu'il s'agit de la bonne solution, nous allons en extraire certaines valeurs et les checker sur le site du mooc:"
   ]
  },
  {
   "cell_type": "markdown",
   "metadata": {},
   "source": [
    "#### 1. Valeur maximum de $|\\psi|$ à l'intérieur de la cavité:"
   ]
  },
  {
   "cell_type": "code",
   "execution_count": null,
   "metadata": {
    "collapsed": false
   },
   "outputs": [],
   "source": [
    "numpy.round(numpy.max(numpy.abs(psi_jac[1:-1,1:-1])),4)"
   ]
  },
  {
   "cell_type": "markdown",
   "metadata": {},
   "source": [
    "#### 2. Valeur maximum de $|\\omega|$ à l'intérieur de la cavité:\n",
    "\n",
    "*Remarque: on demande $|\\omega|$ à l'intérieur de la cavité mais pour obtenir la valeur voulue dans le check il faut regarder sur cet intervalle bizarre (intérieur pour x et total pour y)*"
   ]
  },
  {
   "cell_type": "code",
   "execution_count": null,
   "metadata": {
    "collapsed": false
   },
   "outputs": [],
   "source": [
    "numpy.round(numpy.max(numpy.abs(w_jac[1:-1,1:-1])),4)"
   ]
  },
  {
   "cell_type": "markdown",
   "metadata": {},
   "source": [
    "#### 3. Array de psi pour y=32dy, tous les 8 valeurs de x:"
   ]
  },
  {
   "cell_type": "code",
   "execution_count": null,
   "metadata": {
    "collapsed": false
   },
   "outputs": [],
   "source": [
    "numpy.round(psi_jac[32,::8], 4)"
   ]
  },
  {
   "cell_type": "markdown",
   "metadata": {},
   "source": [
    "####  Première analyse de la solution\n",
    "\n",
    "Les valeurs obtenues ci-dessus correspondent bien à celles que nous devions trouver. Notre code est donc correct.\n",
    "\n",
    "La méthode de Jacobi nous fournit la bonne solution en 4059 itérations. Nous pouvons déjà analyser la solution et voir qu'elle correspond physiquement à ce à quoi on s'attend: le flux est élevé proche de la plaque qui glisse à vitesse $u_{x}=1$ sur le bord supérieur. En arrivant au bord droit, le fluide est obligé de redescendre et tourne. La vitesse de rotation est d'autant plus faible que le flot est bas. Les lignes équipotentielles du flot représente les lignes de courant, et même si on ne le voit pas sur la carte couleur, on sait que le courant s'écoule sur le bord supérieur de la gauche vers la droite. Au-delà de la representation graphique de l'écoulement du fluide dans le régime de Stockes, nous pouvons également déduire de cette solution la vitesse du fluide à chaque point du carré, puisque:\n",
    "$$\\frac{\\partial \\psi}{\\partial x}=-u_{y}, \\frac{\\partial \\psi}{\\partial y}=u_{x}$$"
   ]
  },
  {
   "cell_type": "markdown",
   "metadata": {},
   "source": [
    "## 2. Méthode de Gauss-Seidel\n",
    "Cette méthode est fondée sur le même principe que l'itération de Jacobi mais au lieu de toujours utiliser les valeurs de $\\omega$ et de $\\psi$ de l'itération précédente, on utilise le plus possible les valeurs les plus actuelles.\n",
    "En effet, lorsqu'on met à jour $\\psi$ et $\\omega$, on le fait dans un certain ordre: on balaie le carré des valeurs (x,y) de gauche à droite (x croissants) puis ligne par ligne de haut en bas (y croissants). \n",
    "On pourra donc itérer nos valeurs comme suit:\n",
    "\\begin{equation}\n",
    "\\omega^{k+1}_{i,j} = \\frac{1}{4} \\left(\\omega^{k+1}_{i,j-1} + \\omega^k_{i,j+1} + \\omega^{k+1}_{i-1,j} + \\omega^k_{i+1,j} \\right)\n",
    "\\end{equation}\n",
    "(valable seulement pour $\\Delta x= \\Delta y$)\n",
    "\\begin{equation}\n",
    "\\psi_{i,j}^{k+1}=\\frac{(\\psi_{i+1,j}^{k}+\\psi_{i-1,j}^{k+1})\\Delta y^2+(\\psi_{i,j+1}^{k}+\\psi_{i,j-1}^{k+1})\\Delta x^2+\\omega_{i,j}^{k}\\Delta x^2\\Delta y^2}{2(\\Delta x^2+\\Delta y^2)}\n",
    "\\end{equation}\n",
    "\n",
    "\n",
    "Ceci devrait permettre de diminuer le nombre d'itérations nécessaires pour arriver à la solution. Cependant, on ne peut plus utiliser le calcul par les listes et on doit retourner aux boucles \"for\". Pour éviter que cela ne prenne trop de temps de calcul, on utilise directement \"numba\" et \"jit\". "
   ]
  },
  {
   "cell_type": "code",
   "execution_count": null,
   "metadata": {
    "collapsed": false
   },
   "outputs": [],
   "source": [
    "@jit(nopython=True)\n",
    "def stokesGauss(w,psi):\n",
    "    l1norm_w = 1\n",
    "    l1norm_psi=1\n",
    "    wn = numpy.empty_like(w)\n",
    "    psin=numpy.empty_like(psi)\n",
    "    iterations=0\n",
    "    normpsi_list=numpy.zeros(4060)\n",
    "    \n",
    "    \n",
    "    while (l1norm_psi>l1_target or l1norm_w>l1_target):\n",
    "        l1norm_w=0\n",
    "        l1norm_psi=0\n",
    "        \n",
    "        for j in range(ny):\n",
    "            for i in range(nx):\n",
    "                wn[j,i] = w[j,i]\n",
    "                psin[j,i] = psi[j,i]\n",
    "                \n",
    "    \n",
    "        for j in range(1,ny-1):\n",
    "            for i in range(1,nx-1):\n",
    "                w[j,i] = .25 * (w[j,i+1] + w[j,i-1] \\\n",
    "                              + w[j+1,i] + w[j-1,i])\n",
    "        \n",
    "       \n",
    "                psi[j,i] = 1/(2*(dx**2 + dy**2)) * \\\n",
    "                        ((psi[j,i+1]+psi[j,i-1])*dy**2 +\\\n",
    "                        (psi[j+1,i] + psi[j-1,i])*dx**2 +\\\n",
    "                         w[j,i]*dx**2*dy**2)\n",
    "            \n",
    "        ##B.C on the top of the square\n",
    "        for i in range(nx):\n",
    "            w[-1,i]=(-1/(dy)**2)*(4*psi[-2,i]-psi[-3,i]/2)-3.0/dy\n",
    "            w[0,i]=(-1/(dy)**2)*(4*psi[1,i]-psi[2,i]/2)  \n",
    "        for j in range(ny):\n",
    "            w[j,-1]=(-1/(dx)**2)*(4*psi[j,-2]-psi[j,-3]/2)\n",
    "            w[j,0]=(-1/(dx)**2)*(4*psi[j,1]-psi[j,2]/2)\n",
    "\n",
    "        for j in range(ny):\n",
    "            for i in range(nx):\n",
    "                l1norm_w += numpy.abs(w[j,i] - wn[j,i])\n",
    "                \n",
    "                l1norm_psi += numpy.abs(psi[j,i] - psin[j,i])\n",
    "                \n",
    "        normpsi_list[iterations]= l1norm_psi\n",
    "        \n",
    "    \n",
    "        iterations += 1 \n",
    "        \n",
    "    iter_list = numpy.linspace(1,iterations,iterations-1)\n",
    "        \n",
    "    print(iterations,l1norm_w,l1norm_psi)\n",
    "    return psi,w,iter_list,normpsi_list,iterations"
   ]
  },
  {
   "cell_type": "code",
   "execution_count": null,
   "metadata": {
    "collapsed": false
   },
   "outputs": [],
   "source": [
    "%%timeit\n",
    "x = numpy.linspace(0,1,nx)\n",
    "y = numpy.linspace(0,1,ny)\n",
    "\n",
    "w_gauss=numpy.zeros((nx,ny))\n",
    "psi_gauss=numpy.zeros((nx,ny))\n",
    "w_gauss[-1,:]=-3/dy\n",
    "psi_gauss,w_gauss,iterlist_gauss,normpsilist_gauss,iterations_gauss= stokesGauss(w_gauss.copy(),psi_gauss.copy())"
   ]
  },
  {
   "cell_type": "code",
   "execution_count": null,
   "metadata": {
    "collapsed": false
   },
   "outputs": [],
   "source": [
    "x = numpy.linspace(0,1,nx)\n",
    "y = numpy.linspace(0,1,ny)\n",
    "\n",
    "w_gauss=numpy.zeros((nx,ny))\n",
    "psi_gauss=numpy.zeros((nx,ny))\n",
    "w_gauss[-1,:]=-3/dy\n",
    "psi_gauss,w_gauss,iterlist_gauss,normpsilist_gauss,iterations_gauss= stokesGauss(w_gauss.copy(),psi_gauss.copy())"
   ]
  },
  {
   "cell_type": "markdown",
   "metadata": {},
   "source": [
    "La méthode de Gauss-Seidel prend en effet beaucoup moins d'itérations pour converger vers la solution que celle de Jacobi: 2120 contre 4059\n",
    "\n",
    "Vérifions simplement que la solution est bien correcte:"
   ]
  },
  {
   "cell_type": "code",
   "execution_count": null,
   "metadata": {
    "collapsed": false
   },
   "outputs": [],
   "source": [
    "#Vérification du code:\n",
    "print(round(numpy.max(numpy.abs(psi_gauss[1:-1,1:-1])),4))\n",
    "print(round(numpy.max(numpy.abs(w_gauss[1:-1,1:-1])),4))\n",
    "numpy.round(psi_gauss[32,::8], 4)"
   ]
  },
  {
   "cell_type": "code",
   "execution_count": null,
   "metadata": {
    "collapsed": false
   },
   "outputs": [],
   "source": [
    "plot_3D(x,y,psi_gauss,'Streamfunction')\n",
    "colormap(x,y,psi_gauss,'Streamfunction')"
   ]
  },
  {
   "cell_type": "markdown",
   "metadata": {},
   "source": [
    "Il s'agit bien de la bonne solution. Nous allons étudier les différences de convergence entre Jacobi et Gauss-Seidel, mais avant cela nous allons implémenter une 3ème méthode très similaire qui est juste une légère modification de la méthode de Gauss-Seidel: la méthode SOR (Successive Over-Relaxation)"
   ]
  },
  {
   "cell_type": "markdown",
   "metadata": {},
   "source": [
    "## 3. Méthode SOR "
   ]
  },
  {
   "cell_type": "markdown",
   "metadata": {},
   "source": [
    "Cette méthode consiste à utiliser une combinaison linéaire de la solution de l'itération précédente et de celle calculée par Gauss-Seidel:\n",
    "\\begin{equation}\n",
    "\\omega^{k+1}_{i,j} =(1-\\epsilon)\\omega^{k}_{i,j} + \\frac{\\epsilon}{4} \\left(\\omega^{k+1}_{i,j-1} + \\omega^k_{i,j+1} + \\omega^{k+1}_{i-1,j} + \\omega^k_{i+1,j} \\right)\n",
    "\\end{equation}\n",
    "(valable seulement pour $\\Delta x= \\Delta y$)\n",
    "\\begin{equation}\n",
    "\\psi_{i,j}^{k+1}=(1-\\epsilon)\\psi_{i,j}^k + \\epsilon\\frac{(\\psi_{i+1,j}^{k}+\\psi_{i-1,j}^{k+1})\\Delta y^2+(\\psi_{i,j+1}^{k}+\\psi_{i,j-1}^{k+1})\\Delta x^2+\\omega_{i,j}^{k}\\Delta x^2\\Delta y^2}{2(\\Delta x^2+\\Delta y^2)}\n",
    "\\end{equation}\n",
    "où $\\epsilon$ est un paramètre qui peut varier entre 0 et 2 pour que la solution reste stable. Si $\\epsilon\\leq 1$, SOR convergera plus lentement que Gauss-Seidel, et si il est plus grand que 1, il convergera plus vite.\n",
    "Il existe une valeur charnière de $\\epsilon$ qui minimise le nombre d'itérations pour SOR. Nous ne possédons pas de formule pour déterminer cette valeur, donc nous la déterminerons \"à la main\"."
   ]
  },
  {
   "cell_type": "code",
   "execution_count": null,
   "metadata": {
    "collapsed": false
   },
   "outputs": [],
   "source": [
    "@jit(nopython=True)\n",
    "def stokesSOR(w,psi,epsilon):\n",
    "   \n",
    "    l1norm_w = 1\n",
    "    l1norm_psi=1\n",
    "    wn = numpy.empty_like(w)\n",
    "    psin=numpy.empty_like(psi)\n",
    "    iterations=0\n",
    "    normpsi_list=numpy.zeros(4060)\n",
    "    \n",
    "    while (l1norm_psi>l1_target or l1norm_w>l1_target):\n",
    "        l1norm_w=0\n",
    "        l1norm_psi=0\n",
    "        \n",
    "        for j in range(ny):\n",
    "            for i in range(nx):\n",
    "                wn[j,i] = w[j,i]\n",
    "                psin[j,i] = psi[j,i]\n",
    "                \n",
    "    \n",
    "        for j in range(1,ny-1):\n",
    "            for i in range(1,nx-1):\n",
    "                w[j,i] = (1-epsilon)*wn[j,i] + epsilon*.25 * (wn[j,i+1] + w[j,i-1] + wn[j+1,i] + w[j-1,i])\n",
    "        \n",
    "        for j in range(1,ny-1):\n",
    "            for i in range(1,nx-1):\n",
    "                psi[j,i] = (1-epsilon)*psi[j,i]+ (epsilon/(2*(dx**2 + dy**2))) * \\\n",
    "                        ((psin[j,i+1]+psi[j,i-1])*dy**2 +\\\n",
    "                        (psin[j+1,i] + psi[j-1,i])*dx**2 +\\\n",
    "                         w[j,i]*dx**2*dy**2)\n",
    "            \n",
    "        ##B.C on the edge of the square\n",
    "        for i in range(nx):\n",
    "            w[-1,i]=(-1/(dy)**2)*(4*psi[-2,i]-psi[-3,i]/2)-3.0/dy\n",
    "            w[0,i]=(-1/(dy)**2)*(4*psi[1,i]-psi[2,i]/2)  \n",
    "        for j in range(ny):\n",
    "            w[j,-1]=(-1/(dx)**2)*(4*psi[j,-2]-psi[j,-3]/2)\n",
    "            w[j,0]=(-1/(dx)**2)*(4*psi[j,1]-psi[j,2]/2)\n",
    "           \n",
    "        for j in range(ny):\n",
    "            for i in range(nx):\n",
    "                l1norm_w += numpy.abs(w[j,i] - wn[j,i])\n",
    "                \n",
    "                l1norm_psi += numpy.abs(psi[j,i] - psin[j,i])\n",
    "                \n",
    "        normpsi_list[iterations]= l1norm_psi\n",
    "        \n",
    "    \n",
    "        iterations += 1 \n",
    "        \n",
    "    iter_list = numpy.linspace(1,iterations,iterations-1)\n",
    "    return psi,w,iter_list,normpsi_list,iterations"
   ]
  },
  {
   "cell_type": "markdown",
   "metadata": {},
   "source": [
    "Nous allons à présent déterminer la valeur de $\\epsilon$ qui minimise le nombre d'itérations. On commence à $\\epsilon=1$ (qui correspond au cas de Gauss-Seidel), et on va augmenter progressivement sa valeur jusqu'à ce que la solution ne soit plus stable, ensuite on extraira le minimum d'itérations et le $\\epsilon$ correspondant."
   ]
  },
  {
   "cell_type": "code",
   "execution_count": null,
   "metadata": {
    "collapsed": false
   },
   "outputs": [],
   "source": [
    "def minimize_epsilon(emin,emax,nb_of_step):\n",
    "    tiny=1e-8\n",
    "    list_iterations=numpy.zeros((nb_of_step,2))\n",
    "    epsilon=emin\n",
    "    step=(emax-emin)/nb_of_step\n",
    "    i=0\n",
    "    while ((emax-epsilon)>tiny):\n",
    "        print(epsilon)\n",
    "        x = numpy.linspace(0,1,nx)\n",
    "        y = numpy.linspace(0,1,ny)\n",
    "        w=numpy.zeros((nx,ny))\n",
    "        psi_epsilon=numpy.zeros((nx,ny))\n",
    "        w[-1,:]=-3/dy\n",
    "        iterations_SOR= stokesSOR(w.copy(),psi_epsilon.copy(),epsilon)[4]\n",
    "        list_iterations[i,0]=epsilon\n",
    "        list_iterations[i,1]=iterations_SOR\n",
    "        i=i+1\n",
    "        epsilon=epsilon+step\n",
    "    return list_iterations"
   ]
  },
  {
   "cell_type": "code",
   "execution_count": null,
   "metadata": {
    "collapsed": false
   },
   "outputs": [],
   "source": [
    "minimize_epsilon(1.0,1.5,5)"
   ]
  },
  {
   "cell_type": "markdown",
   "metadata": {},
   "source": [
    "A première vue, plus on augmente $\\epsilon$, plus le nombre d'itérations diminue. Cependant, dès $\\epsilon=1.5$, la méthode devient instable. Nous devons donc nous arrêter avant cette valeur. Nous allons maintenant chercher autour de $\\epsilon=1.4$ la valeur minimale."
   ]
  },
  {
   "cell_type": "code",
   "execution_count": null,
   "metadata": {
    "collapsed": false
   },
   "outputs": [],
   "source": [
    "minimize_epsilon(1.35,1.45,5)"
   ]
  },
  {
   "cell_type": "markdown",
   "metadata": {},
   "source": [
    "La valeur minimale du nombre d'itération se trouve autour de $\\epsilon=1.43$. Affinons encore une fois notre recherche dans cette zone:"
   ]
  },
  {
   "cell_type": "code",
   "execution_count": null,
   "metadata": {
    "collapsed": false
   },
   "outputs": [],
   "source": [
    "minimize_epsilon(1.42,1.44,20)"
   ]
  },
  {
   "cell_type": "markdown",
   "metadata": {},
   "source": [
    "Notre meilleure estimation du minimum est $\\epsilon=1.437$. Pour cette valeur, le nombre d'itérations est de 888, ce qui est nettement inférieur au nombre d'itérations pour Gauss-Seidel et Jacobi."
   ]
  },
  {
   "cell_type": "code",
   "execution_count": null,
   "metadata": {
    "collapsed": false
   },
   "outputs": [],
   "source": [
    "%%timeit\n",
    "x = numpy.linspace(0,1,nx)\n",
    "y = numpy.linspace(0,1,ny)\n",
    "\n",
    "w=numpy.zeros((nx,ny))\n",
    "psi3=numpy.zeros((nx,ny))\n",
    "w[-1,:]=-3/dy\n",
    "psi3,w,iterlist_SOR,normpsilist_SOR,iterations_SOR= stokesSOR(w.copy(),psi3.copy(),1.437)"
   ]
  },
  {
   "cell_type": "code",
   "execution_count": null,
   "metadata": {
    "collapsed": false
   },
   "outputs": [],
   "source": [
    "x = numpy.linspace(0,1,nx)\n",
    "y = numpy.linspace(0,1,ny)\n",
    "\n",
    "w3=numpy.zeros((nx,ny))\n",
    "psi3=numpy.zeros((nx,ny))\n",
    "w3[:,-1]=-3/dy\n",
    "psi3,w3,iterlist_SOR,normpsilist_SOR,iterations_SOR= stokesSOR(w3.copy(),psi3.copy(),1.437)\n",
    "print(iterations_SOR)"
   ]
  },
  {
   "cell_type": "code",
   "execution_count": null,
   "metadata": {
    "collapsed": false
   },
   "outputs": [],
   "source": [
    "#Verification de la solution:\n",
    "print(numpy.round(numpy.max(numpy.abs(psi3[1:-1,1:-1])),4))\n",
    "print(numpy.round(numpy.max(numpy.abs(w3[1:-1,1:-1])),4))\n",
    "print(numpy.round(psi3[32,::8], 4))"
   ]
  },
  {
   "cell_type": "code",
   "execution_count": null,
   "metadata": {
    "collapsed": false
   },
   "outputs": [],
   "source": [
    "plot_3D(x,y,psi3,'Streamfunction')\n",
    "colormap(x,y,psi3,'Streamfunction')"
   ]
  },
  {
   "cell_type": "markdown",
   "metadata": {},
   "source": [
    "## Etude de la convergence des différentes méthodes:"
   ]
  },
  {
   "cell_type": "markdown",
   "metadata": {},
   "source": [
    "A présent, on veut utiliser les listes des différence de normes L1 successives de $\\psi$ pour chaque méthode afin de comparer la convergence des trois méthodes utilisées:"
   ]
  },
  {
   "cell_type": "markdown",
   "metadata": {},
   "source": [
    "**Comparaison de la convergence:**"
   ]
  },
  {
   "cell_type": "code",
   "execution_count": null,
   "metadata": {
    "collapsed": false
   },
   "outputs": [],
   "source": [
    "pyplot.figure(figsize=(15,10))\n",
    "pyplot.plot(iterlist_jac,normpsilist_jac[:iterations_jac-1], color='red',label='Jacobi')\n",
    "pyplot.plot(iterlist_gauss,normpsilist_gauss[:iterations_gauss-1], color='green',label='Gauss')\n",
    "pyplot.plot(iterlist_SOR,normpsilist_SOR[:iterations_SOR-1], color='#003366',label='SOR')\n",
    "pyplot.xlabel('Number of iterations', fontsize=18)\n",
    "pyplot.ylabel('L1 Norm', fontsize=18)\n",
    "pyplot.ylim(0,0.6) \n",
    "pyplot.xlim(0,4060)\n",
    "pyplot.legend(loc='upper right',fontsize=20)\n",
    "pyplot.close;"
   ]
  },
  {
   "cell_type": "code",
   "execution_count": null,
   "metadata": {
    "collapsed": false
   },
   "outputs": [],
   "source": [
    "pyplot.figure(figsize=(15,10))\n",
    "pyplot.semilogy(normpsilist_jac[:iterations_jac-1], color='red',label='Jacobi')\n",
    "pyplot.semilogy(normpsilist_gauss[:iterations_gauss-1], color='green',label='Gauss')\n",
    "pyplot.semilogy(normpsilist_SOR[:iterations_SOR-1], color='#003366',label='SOR')\n",
    "pyplot.xlabel('Number of iterations', fontsize=18)\n",
    "pyplot.ylabel('L1 Norm', fontsize=18)\n",
    "pyplot.ylim(0,0.6) \n",
    "pyplot.xlim(0,4060)\n",
    "pyplot.legend(loc='upper right',fontsize=20)\n",
    "pyplot.close;"
   ]
  },
  {
   "cell_type": "markdown",
   "metadata": {},
   "source": [
    "On observe comme on s'y attend que la convergence de la méthode SOR est plus rapide que celle de Gauss-Seidel, qui est elle-même plus rapide que celle de Jacobi. D'autre part, on observe que les différences de norme L1 de ces trois méthodes possèdent des \"bosses\": itérations ou au lieu de diminuer, la différence de norme L1 entre deux itérations successives augmente.\n",
    "Une hypothèse d'explication est que comme dans ces méthodes, la condition au bord supérieur non nul se propage ligne par ligne à chaque itérations. Cependant lorsqu'elle atteint le bord, il se pourrait que cela crée une sorte \"d'onde de choc\" qui éloignerait temporairement la fonction de la solution (la différence de norme L1 entre deux itérations grandit) puis se résorberait. Ce phénomène semble se reproduire plusieurs fois dans chaque méthode ce qui correspondrait aux rebonds successifs."
   ]
  },
  {
   "cell_type": "markdown",
   "metadata": {},
   "source": [
    "## 4. Steepest Descent\n",
    "Nous allons à présent résoudre notre système d'équations en utilisant les méthodes de Steepest Descent et du Conjugate Gradient. Ces méthodes sont fondamentalement différentes des trois précédentes car au lieu de faire progresser les conditions au bord ligne par ligne, on veut résoudre le problème de manière globale en l'écrivant sous forme de matrice.\n",
    "De cette façon, le nombre d'itérations doit se réduire considérablement. Mais nous allons voir que tout ne se passe pas aussi simplement que prévu.\n",
    "\n",
    "On considère l'équation comme une équation de matrice $Ax=b$.\n",
    "Dans notre cas, on aura deux systèmes d'équations couplés:\n",
    "$$A\\omega=0$$\n",
    "$$A\\psi=-\\omega$$\n",
    "où $$A=\\nabla^{2}$$\n",
    "En discrétisant cet opérateur, on obtient que \n",
    "\n",
    "$$\\nabla^{2}p=\\frac{p_{i+1,j}^{k}-2p_{i,j}^{k}+p_{i-1,j}^{k}}{\\Delta x^2}+\\frac{p_{i,j+1}^{k}-2 p_{i,j}^{k}+p_{i,j-1}^{k}}{\\Delta y^2}$$\n",
    "Pour n'importe quelle fonction p."
   ]
  },
  {
   "cell_type": "markdown",
   "metadata": {
    "collapsed": true
   },
   "source": [
    "## Code:"
   ]
  },
  {
   "cell_type": "code",
   "execution_count": null,
   "metadata": {
    "collapsed": false
   },
   "outputs": [],
   "source": [
    "def steep_des(w,psi):\n",
    "    \n",
    "\n",
    "    l1norm_w = 1\n",
    "    l1norm_psi=1\n",
    "\n",
    "    Aresi_w=numpy.zeros((ny,nx))\n",
    "    Aresi_psi= numpy.zeros((ny,nx))\n",
    "    residual_w=numpy.zeros((ny,nx))\n",
    "    residual_psi=numpy.zeros((ny,nx))\n",
    "    iterations=0\n",
    "    normpsi_list=numpy.zeros(5400)\n",
    "\n",
    "    while (l1norm_psi>l1_target or l1norm_w>l1_target) :\n",
    "        l1norm_w = 0\n",
    "        l1norm_psi= 0\n",
    "        \n",
    "        wn = w.copy()\n",
    "        psin=psi.copy()\n",
    "        \n",
    "            \n",
    "        residual_w[1:-1,1:-1]= 4*wn[1:-1,1:-1] - wn[1:-1,2:] - wn[1:-1,:-2] - wn[2:, 1:-1] - wn[:-2, 1:-1]\n",
    "        \n",
    "        Aresi_w[1:-1,1:-1] = -4*residual_w[1:-1,1:-1] + \\\n",
    "                         residual_w[1:-1,2:] + residual_w[1:-1,:-2] + residual_w[2:, 1:-1] + residual_w[:-2, 1:-1]\n",
    "        \n",
    "        numw = numpy.sum(residual_w*residual_w)\n",
    "        denw = numpy.sum(residual_w*Aresi_w)\n",
    "        alphaw = numw/denw\n",
    "        \n",
    "        w= wn + alphaw*residual_w\n",
    "        \n",
    "        ##B.C on the edge of the square\n",
    "        w[-1,:]=(-1/(dx)**2)*(4*psi[-2,:]-psi[-3,:]/2)-3.0/dy\n",
    "        w[0,:]=(-1/(dx)**2)*(4*psi[1,:]-psi[2,:]/2) \n",
    "        w[:,-1]=(-1/(dy)**2)*(4*psi[:,-2]-psi[:,-3]/2)\n",
    "        w[:,0]=(-1/(dy)**2)*(4*psi[:,1]-psi[:,2]/2)\n",
    "         \n",
    "        \n",
    "        residual_psi[1:-1,1:-1] = -w[1:-1,1:-1]*(dx**2)+4*psin[1:-1,1:-1]\\\n",
    "                                -(psin[1:-1,2:]+psin[1:-1,:-2] +\\\n",
    "                                psin[2:,1:-1] + psin[:-2,1:-1])\n",
    "        \n",
    "                                                  \n",
    "        Aresi_psi[1:-1,1:-1] = -4*residual_psi[1:-1,1:-1] + residual_psi[1:-1,2:] + residual_psi[1:-1,:-2] +\\\n",
    "                                residual_psi[2:,1:-1] + residual_psi[:-2,1:-1]\n",
    "        \n",
    "\n",
    "        numpsi = numpy.sum(residual_psi*residual_psi)\n",
    "        denpsi = numpy.sum(residual_psi*Aresi_psi)\n",
    "        alphapsi = numpsi/denpsi\n",
    "            \n",
    "       \n",
    "        psi = psin + alphapsi*residual_psi\n",
    "        \n",
    "\n",
    "        l1norm_w=L1norm(w,wn)\n",
    "        l1norm_psi=L1norm(psi,psin)\n",
    "        \n",
    "        normpsi_list[iterations]= l1norm_psi\n",
    "        \n",
    "        iterations += 1 \n",
    "        \n",
    "        \n",
    "        \n",
    "    iter_list = numpy.linspace(1,iterations,iterations-1)\n",
    "    print('Number of iterations: {0:d}'.format(iterations))\n",
    "    print('L1 Norm for omega:',l1norm_w)\n",
    "    print('L1 Norm for psi: ',l1norm_psi)\n",
    "\n",
    "    return psi,w,iter_list,normpsi_list,iterations"
   ]
  },
  {
   "cell_type": "code",
   "execution_count": null,
   "metadata": {
    "collapsed": false
   },
   "outputs": [],
   "source": [
    "x5 = numpy.linspace(0,1,nx)\n",
    "y5 = numpy.linspace(0,1,ny)"
   ]
  },
  {
   "cell_type": "code",
   "execution_count": null,
   "metadata": {
    "collapsed": false
   },
   "outputs": [],
   "source": [
    "w5=numpy.zeros((ny,nx))\n",
    "psi5=numpy.zeros((ny,nx))\n",
    "w5[-1,:]=-3/dy\n",
    "psi5,w5,iterlist_Steep,normpsilist_Steep,iterations5= steep_des(w5.copy(),psi5.copy())"
   ]
  },
  {
   "cell_type": "code",
   "execution_count": null,
   "metadata": {
    "collapsed": false
   },
   "outputs": [],
   "source": [
    "#Vérification de la solution:\n",
    "print(numpy.round(numpy.max(numpy.abs(psi5[1:-1,1:-1])),4))\n",
    "print(numpy.round(numpy.max(numpy.abs(w5[1:-1,1:-1])),4))\n",
    "print(numpy.round(psi5[32,::8], 4))"
   ]
  },
  {
   "cell_type": "code",
   "execution_count": null,
   "metadata": {
    "collapsed": false
   },
   "outputs": [],
   "source": [
    "plot_3D(x5,y5,psi5,'Streamfunction')"
   ]
  },
  {
   "cell_type": "markdown",
   "metadata": {},
   "source": [
    "Notre code converge vers la bonne solution... mais il met pour cela 4032 étapes, soit presque autant que Jacobi! "
   ]
  },
  {
   "cell_type": "code",
   "execution_count": null,
   "metadata": {
    "collapsed": false
   },
   "outputs": [],
   "source": [
    "pyplot.figure(figsize=(10,7))\n",
    "pyplot.semilogy(normpsilist_Steep[:iterations5-1], color='#003366',label='Steepest Descent')\n",
    "pyplot.xlabel('Number of iterations', fontsize=14)\n",
    "pyplot.ylabel('L1 Norm', fontsize=14)\n",
    "pyplot.legend(loc='upper right',fontsize=14)\n",
    "pyplot.close;"
   ]
  },
  {
   "cell_type": "markdown",
   "metadata": {},
   "source": [
    "Avant 500 itérations, le trait est très gras, nous faisons un zoom sur cette zone pour comprendre ce qu'il se passe:"
   ]
  },
  {
   "cell_type": "code",
   "execution_count": null,
   "metadata": {
    "collapsed": false
   },
   "outputs": [],
   "source": [
    "pyplot.figure(figsize=(10,7))\n",
    "pyplot.semilogy(normpsilist_Steep[:iterations5-1], color='#003366',label='Steepest Descent')\n",
    "pyplot.xlabel('Number of iterations', fontsize=14)\n",
    "pyplot.ylabel('L1 Norm', fontsize=14)\n",
    "pyplot.legend(loc='upper right',fontsize=14)\n",
    "pyplot.xlim(0,500)\n",
    "pyplot.ylim(0.01,1.0)\n",
    "pyplot.close;"
   ]
  },
  {
   "cell_type": "markdown",
   "metadata": {
    "collapsed": false
   },
   "source": [
    "On voit que la différence de norme L1 n'est pas linéaire. Elle change fort de valeurs à chaque itérations, ce qui donne l'impression d'une courbe grasse. Cela est dû au fait que la méthode traite le problème de manière générale, mais comme les conditions au bord ne se propagent que lentement, c'est comme s'il fallait à chaque itération résoudre un problème différent, et donc un système d'équation différent ( le b change à chaque fois). C'est pour cela que cette méthode converge si lentement, alors qu'elle devrait en théorie converger en quelques itérations seulement. "
   ]
  },
  {
   "cell_type": "markdown",
   "metadata": {},
   "source": [
    "## 5. Conjugate gradient"
   ]
  },
  {
   "cell_type": "markdown",
   "metadata": {},
   "source": [
    "Pour la méthode du conjugate gradient, cette façon de faire ne converge pas. Nous allons devoir aborder le problème d'un autre angle."
   ]
  },
  {
   "cell_type": "markdown",
   "metadata": {},
   "source": [
    "Pour illustrer ce problème, nous allons utiliser le code du conjugate gradient du notebook d'apprentissage mais en l'appliquant à un problème légèrement différent: au lieu d'avoir un b non nul et des conditions au bord nulles, on considère le même problème mais avec un b nul et des conditions au bord non nulles:"
   ]
  },
  {
   "cell_type": "code",
   "execution_count": null,
   "metadata": {
    "collapsed": false
   },
   "outputs": [],
   "source": [
    "#Ce code provient du notebook 05_03_Iterate.This du Module 5 du numerical-mooc:\n",
    "\n",
    "def conjugate_gradient_2d(p):\n",
    "    '''Performs cg relaxation\n",
    "    Assumes Dirichlet boundary conditions p=0\n",
    "    \n",
    "    Parameters:\n",
    "    ----------\n",
    "    p : 2D array of floats\n",
    "        Initial guess\n",
    "    b : 2D array of floats\n",
    "        Source term\n",
    "    dx: float\n",
    "        Mesh spacing in x direction\n",
    "    dy: float\n",
    "        Mesh spacing in y direction\n",
    "    l2_target: float\n",
    "        exit criterion\n",
    "        \n",
    "    Returns:\n",
    "    -------\n",
    "    p: 2D array of float\n",
    "        Distribution after relaxation\n",
    "    '''\n",
    "    ny, nx = p.shape\n",
    "    r  = numpy.zeros((ny,nx)) # residual\n",
    "    Ad  = numpy.zeros((ny,nx)) # to store result of matrix multiplication \n",
    "    \n",
    "    l2_norm = 1\n",
    "    iterations = 0\n",
    "    \n",
    "    # Step-0 We compute the initial residual and \n",
    "    # the first search direction is just this residual\n",
    "    \n",
    "    r[1:-1,1:-1] = 4*p[1:-1,1:-1] - \\\n",
    "        p[1:-1,2:] - p[1:-1,:-2] - p[2:, 1:-1] - p[:-2, 1:-1]\n",
    "    d = r.copy()\n",
    "    rho = numpy.sum(r*r)\n",
    "    Ad[1:-1,1:-1] = -4*d[1:-1,1:-1]+d[1:-1,2:]+d[1:-1,:-2]+\\\n",
    "        d[2:, 1:-1] + d[:-2, 1:-1]\n",
    "    sigma = numpy.sum(d*Ad)\n",
    "    \n",
    "    # Iterations\n",
    "    while l2_norm > l1_target:\n",
    "\n",
    "        pk = p.copy()\n",
    "        rk = r.copy()\n",
    "        dk = d.copy()\n",
    "        \n",
    "        alpha = rho/sigma\n",
    "\n",
    "        p = pk + alpha*dk\n",
    "        r = rk- alpha*Ad\n",
    "        \n",
    "        rhop1 = numpy.sum(r*r)\n",
    "        beta = rhop1 / rho\n",
    "        rho = rhop1\n",
    "        \n",
    "        d = r + beta*dk\n",
    "        Ad[1:-1,1:-1] = -4*d[1:-1,1:-1] + d[1:-1,2:] + d[1:-1,:-2] + \\\n",
    "            d[2:, 1:-1] + d[:-2, 1:-1]\n",
    "        sigma = numpy.sum(d*Ad)\n",
    "        \n",
    "        # BCs are automatically enforced\n",
    "        \n",
    "        l2_norm = L1norm(pk,p)\n",
    "        iterations += 1\n",
    "    \n",
    "    print('Number of CG iterations: {0:d}'.format(iterations))\n",
    "    return p    \n"
   ]
  },
  {
   "cell_type": "code",
   "execution_count": null,
   "metadata": {
    "collapsed": false
   },
   "outputs": [],
   "source": [
    "x7 = numpy.linspace(0,1,nx)\n",
    "y7 = numpy.linspace(0,1,ny)\n",
    "w7=numpy.zeros((ny,nx))\n",
    "w7[-1,:]=-3/dy\n",
    "w7=conjugate_gradient_2d(w7.copy())\n",
    "plot_3D(x7,y7,w7,'omega')"
   ]
  },
  {
   "cell_type": "markdown",
   "metadata": {},
   "source": [
    "Pour le même problème, il faut ici 126 itérations pour converger vers la solution, contre 2 itérations dans le cas traité dans l'exemple (Module5, 05_03_Iterate.This). Ceci illustre parfaitement le problème qu'on rencontre lorsque l'on met des conditions au bord et qu'on essaye de résoudre par Steepest Descent ou Conjugate Gradient"
   ]
  },
  {
   "cell_type": "markdown",
   "metadata": {},
   "source": [
    "### Equation biharmonique\n",
    "Au lieu de résoudre le système d'équation découplées, nous le retravaillons pour obtenir l'équation biharmonique:\n"
   ]
  },
  {
   "cell_type": "markdown",
   "metadata": {
    "collapsed": true
   },
   "source": [
    "\\begin{equation}\n",
    "\\nabla^4\\psi=0\\\\\n",
    "\\Leftrightarrow \\frac{\\partial^4 \\psi}{\\partial y^4} + 2\\frac{\\partial^4 \\psi}{\\partial y^2 \\partial x^2}+\\frac{\\partial^4 \\psi}{\\partial x^4}=0\\\\\n",
    "\\Leftrightarrow \\left(\\frac{\\psi_{i-2,j} - 4\\psi_{i-1,j} +6\\psi_{i,j} - 4\\psi_{i+1,j} + \\psi_{i+2,j}}{\\Delta x^4}\\right) +2\\left(\\frac{\\Big[\\psi_{i-1,j-1} - 2\\psi_{i-1,j} + \\psi_{i-1,j+1}\\Big] - 2\\Big[\\psi_{i,j-1} - 2\\psi_{i,j} + \\psi_{i,j+1}\\Big]+\\Big[\\psi_{i+1,j-1} - 2\\psi_{i+1,j} + \\psi_{i+1,j+1}\\Big]}{\\Delta x^2 \\Delta y^2}\\right)\n",
    "+\\left(\\frac{\\psi_{i,j-2} - 4\\psi_{i,j-1} +6\\psi_{i,j} - 4\\psi_{i,j+1} + \\psi_{i,j+2}}{\\Delta y^4}\\right)=0\n",
    "\\end{equation}\n",
    "\n",
    "**Conditions au bord:**\n",
    "\n",
    "TOP:\n",
    "\\begin{equation}\n",
    "\\psi=0 \\Leftrightarrow \\psi_{i,ny-1}=0\\\\\n",
    "\\frac{\\partial \\psi}{\\partial y}=1 \\Leftrightarrow \\psi_{i,ny-2}=\\frac{\\psi_{i,ny-3}}{4} - \\frac{\\Delta y}{2}\n",
    "\\end{equation}\n",
    "BOTTOM:\n",
    "\\begin{equation}\n",
    "\\psi=0\\Leftrightarrow \\psi_{i,0}=0\\\\\n",
    "\\frac{\\partial \\psi}{\\partial y}=0 \\Leftrightarrow \\psi_{i,1}=\\frac{\\psi_{i,2}}{4}\n",
    "\\end{equation}\n",
    "LEFT:\n",
    "\\begin{equation}\n",
    "\\psi=0\\Leftrightarrow \\psi_{0,j}=0\\\\\n",
    "\\frac{\\partial \\psi}{\\partial x}=0 \\Leftrightarrow \\psi_{1,j}=\\frac{\\psi_{2,j}}{4}\n",
    "\\end{equation}\n",
    "RIGHT:\n",
    "\\begin{equation}\n",
    "\\psi=0\\Leftrightarrow \\psi_{nx-1,j}=0\\\\\n",
    "\\frac{\\partial \\psi}{\\partial x}=0 \\Leftrightarrow \\psi_{nx-2,j}=\\frac{\\psi_{nx-3,j}}{4}\n",
    "\\end{equation}"
   ]
  },
  {
   "cell_type": "markdown",
   "metadata": {
    "collapsed": true
   },
   "source": [
    "#### Problème à 1D:\n",
    "Afin de pouvoir bien comprendre la méthode du conjugate gradient et l'utilisation de la matrice, nous commencons par résoudre le même problème à 1 dimension:"
   ]
  },
  {
   "cell_type": "code",
   "execution_count": null,
   "metadata": {
    "collapsed": true
   },
   "outputs": [],
   "source": [
    "def matrixA_1D(psi):\n",
    "    n=psi.shape\n",
    "    Apsi = numpy.zeros(n)\n",
    "    b = numpy.zeros(n)\n",
    "    b[-4]=1/(2*dx**3)\n",
    "    b[-3]=-2/(dx**3)\n",
    "  \n",
    "    Apsi[4:-4]=(psi[2:-6]-4*psi[3:-5]+6*psi[4:-4]-4*psi[5:-3]+psi[6:-2])/(dx**4)\n",
    "    Apsi[2]=(5*psi[2]-4*psi[3]+psi[4])/(dx**4)\n",
    "    Apsi[3]=(-15/4*psi[2]+6*psi[3]-4*psi[4]+psi[5])/(dx**4)\n",
    "    Apsi[-4]=(psi[-6]-4*psi[-5]+6*psi[-4]-15/4*psi[-3])/(dx**4)\n",
    "    Apsi[-3]=(psi[-5]-4*psi[-4]+5*psi[-3])/(dx**4)\n",
    "    \n",
    "    return Apsi,b"
   ]
  },
  {
   "cell_type": "code",
   "execution_count": null,
   "metadata": {
    "collapsed": true
   },
   "outputs": [],
   "source": [
    "def biharmonic1D(p):\n",
    "    n= p.shape\n",
    "    r  = numpy.zeros(n) # residual\n",
    "    Ad  = numpy.zeros(n) # to store result of matrix multiplication \n",
    "    b = matrixA_1D(p)[1]\n",
    "    l1_norm = 1\n",
    "    iterations = 0\n",
    "    \n",
    "    # Step-0 We compute the initial residual and \n",
    "    # the first search direction is just this residual\n",
    "    Ad  = matrixA_1D(p)[0]\n",
    "    r[2:-2] = b[2:-2]- Ad[2:-2]\n",
    "    d = r.copy()\n",
    "    rho = numpy.sum(r*r)\n",
    "    Ad = matrixA_1D(d)[0]\n",
    "    sigma = numpy.sum(d*Ad)\n",
    "    \n",
    "    # Iterations\n",
    "    while l1_norm >l1_target:\n",
    "\n",
    "        pk = p.copy()\n",
    "        rk = r.copy()\n",
    "        dk = d.copy()\n",
    "        \n",
    "        alpha = rho/sigma\n",
    "\n",
    "        p = pk + alpha*dk\n",
    "        r = rk- alpha*Ad\n",
    "        \n",
    "        rhop1 = numpy.sum(r*r)\n",
    "        beta = rhop1 / rho\n",
    "        rho = rhop1\n",
    "        \n",
    "        d = r + beta*dk\n",
    "        Ad = matrixA_1D(d)[0]\n",
    "        sigma = numpy.sum(d*Ad)\n",
    "        \n",
    "        # BC\n",
    "        p[1]=p[2]/4\n",
    "        p[-2]=p[-3]/4-dx/2\n",
    "        \n",
    "        l1_norm = L1norm(pk,p)\n",
    "        iterations += 1\n",
    "    \n",
    "    print('Number of CG iterations: {0:d}'.format(iterations))\n",
    "    return p    "
   ]
  },
  {
   "cell_type": "code",
   "execution_count": null,
   "metadata": {
    "collapsed": false
   },
   "outputs": [],
   "source": [
    "x=numpy.linspace(0,1,nx)\n",
    "psi=numpy.zeros(nx)\n",
    "psiup=biharmonic1D(psi)"
   ]
  },
  {
   "cell_type": "code",
   "execution_count": null,
   "metadata": {
    "collapsed": false
   },
   "outputs": [],
   "source": [
    "pyplot.plot(x,psiup, color='#004366',label='Biharmonic 1D')\n",
    "pyplot.xlabel('x', fontsize=14)\n",
    "pyplot.ylabel('psi', fontsize=14)\n",
    "pyplot.legend(loc='upper right',fontsize=14)\n",
    "pyplot.close;"
   ]
  },
  {
   "cell_type": "markdown",
   "metadata": {},
   "source": [
    "Le nombre d'itérations est relativement bas (448) et la forme ressemble bien à une coupe selon x du résultat attendu à 2D.\n",
    "Nous pouvons donc à présent passer à la résolution du problème à deux dimensions:"
   ]
  },
  {
   "cell_type": "code",
   "execution_count": null,
   "metadata": {
    "collapsed": false
   },
   "outputs": [],
   "source": [
    "def matrixA_2D(psi):\n",
    "    ny, nx = psi.shape\n",
    "    Apsi = numpy.zeros((ny,nx))\n",
    "    b = numpy.zeros((ny,nx))\n",
    "    b[-4,4:-4]=1/(2*dx**3)\n",
    "    b[-3,4:-4]=-2/(dx**3)\n",
    "    \n",
    "    \n",
    "    Apsi[4:-4,4:-4] = ((psi[4:-4,2:-6]+psi[4:-4,6:-2]+psi[2:-6,4:-4]+psi[6:-2,4:-4])\\\n",
    "                    +2*(psi[3:-5,3:-5]+psi[5:-3,3:-5]+psi[3:-5,5:-3]+psi[5:-3,5:-3])\\\n",
    "                    -8*(psi[4:-4,3:-5]+psi[4:-4,5:-3]+psi[3:-5,4:-4]+psi[5:-3,4:-4])\\\n",
    "                    +20*psi[4:-4,4:-4])/(dx**4)\n",
    "                \n",
    "    #Matrix on the edge\n",
    "\n",
    "    #Right:\n",
    "    Apsi[4:-4,-3] = ((psi[4:-4,-5]+psi[2:-6,-3]+psi[6:-2,-3])\\\n",
    "                    +2*(psi[3:-5,-4]+psi[5:-3,-4]+psi[3:-5,-3]/4+psi[5:-3,-3]/4)\\\n",
    "                    -8*(psi[4:-4,-4]+psi[4:-4,-3]/4+psi[3:-5,-3]+psi[5:-3,-3])\\\n",
    "                    +20*psi[4:-4,-3])/(dx**4)\n",
    "    Apsi[4:-4,-4] = ((psi[4:-4,-6]+psi[4:-4,-3]/4+psi[2:-6,-4]+psi[6:-2,-4])\\\n",
    "                    +2*(psi[3:-5,-5]+psi[5:-3,-5]+psi[3:-5,-3]+psi[5:-3,-3])\\\n",
    "                    -8*(psi[4:-4,-5]+psi[4:-4,-3]+psi[3:-5,-4]+psi[5:-3,-4])\\\n",
    "                    +20*psi[4:-4,-4])/(dx**4)\n",
    "    #Left:\n",
    "    Apsi[4:-4,2] = ((psi[4:-4,4]+psi[2:-6,2]+psi[6:-2,2])\\\n",
    "                    +2*(psi[3:-5,2]/4+psi[5:-3,2]/4+psi[3:-5,3]+psi[5:-3,3])\\\n",
    "                    -8*(psi[4:-4,2]/4+psi[4:-4,3]+psi[3:-5,2]+psi[5:-3,2])\\\n",
    "                    +20*psi[4:-4,2])/(dx**4)\n",
    "    Apsi[4:-4,3] = ((psi[4:-4,2]/4+psi[4:-4,5]+psi[2:-6,3]+psi[6:-2,3])\\\n",
    "                    +2*(psi[3:-5,2]+psi[5:-3,2]+psi[3:-5,4]+psi[5:-3,4])\\\n",
    "                    -8*(psi[4:-4,2]+psi[4:-4,4]+psi[3:-5,3]+psi[5:-3,3])\\\n",
    "                    +20*psi[4:-4,3])/(dx**4)\n",
    "    #Top:\n",
    "    Apsi[-3,4:-4] = ((psi[-3,2:-6]+psi[-3,6:-2]+psi[-5,4:-4])\\\n",
    "                    +2*(psi[-4,3:-5]+psi[-3,3:-5]/4+psi[-4,5:-3]+psi[-3,5:-3]/4)\\\n",
    "                    -8*(psi[-3,3:-5]+psi[-3,5:-3]+psi[-4,4:-4]+psi[-3,4:-4]/4)\\\n",
    "                    +20*psi[-3,4:-4])/(dx**4)\n",
    "    Apsi[-4,4:-4] = ((psi[-4,2:-6]+psi[-4,6:-2]+psi[-6,4:-4]+psi[-3,4:-4]/4)\\\n",
    "                    +2*(psi[-5,3:-5]+psi[-3,3:-5]+psi[-5,5:-3]+psi[-3,5:-3])\\\n",
    "                    -8*(psi[-4,3:-5]+psi[-4,5:-3]+psi[-5,4:-4]+psi[-3,4:-4])\\\n",
    "                    +20*psi[-4,4:-4])/(dx**4)\n",
    "    #Bottom:\n",
    "    Apsi[2,4:-4] = ((psi[2,2:-6]+psi[2,6:-2]+psi[4,4:-4])\\\n",
    "                    +2*(psi[2,3:-5]/4+psi[3,3:-5]+psi[2,5:-3]/4+psi[3,5:-3])\\\n",
    "                    -8*(psi[2,3:-5]+psi[2,5:-3]+psi[2,4:-4]/4+psi[3,4:-4])\\\n",
    "                    +20*psi[2,4:-4])/(dx**4)\n",
    "    Apsi[3,4:-4] = ((psi[3,2:-6]+psi[3,6:-2]+psi[2,4:-4]/4+psi[5,4:-4])\\\n",
    "                    +2*(psi[2,3:-5]+psi[4,3:-5]+psi[2,5:-3]+psi[4,5:-3])\\\n",
    "                    -8*(psi[3,3:-5]+psi[3,5:-3]+psi[2,4:-4]+psi[4,4:-4])\\\n",
    "                    +20*psi[3,4:-4])/(dx**4)\n",
    "\n",
    "    \n",
    "    return Apsi,b"
   ]
  },
  {
   "cell_type": "code",
   "execution_count": null,
   "metadata": {
    "collapsed": true
   },
   "outputs": [],
   "source": [
    "def Biharmonic2D(psi):\n",
    "\n",
    "    ny, nx = psi.shape\n",
    "    r  = numpy.zeros((ny,nx)) # residual\n",
    "    Ad  = numpy.zeros((ny,nx)) # to store result of matrix multiplication \n",
    "    b = matrixA_2D(psi)[1]\n",
    "    \n",
    "    l1_norm = 1\n",
    "    iterations = 0\n",
    "    normpsi_list=numpy.zeros(5400)\n",
    "    \n",
    "    # Step-0 We compute the initial residual and \n",
    "    # the first search direction is just this residual\n",
    "    Ad = matrixA_2D(psi)[0]\n",
    "    r = b - Ad\n",
    "    d = r.copy()\n",
    "    rho = numpy.sum(r*r)\n",
    "    Ad = matrixA_2D(d)[0]\n",
    "    sigma = numpy.sum(d*Ad)\n",
    "    \n",
    "    # Iterations\n",
    "    while l1_norm > l1_target:\n",
    "\n",
    "        psik = psi.copy()\n",
    "        rk = r.copy()\n",
    "        dk = d.copy()\n",
    "        \n",
    "        alpha = rho/sigma\n",
    "\n",
    "        psi = psik + alpha*dk\n",
    "        \n",
    "        r = rk- alpha*Ad\n",
    "        \n",
    "        rhop1 = numpy.sum(r*r)\n",
    "        beta = rhop1 / rho\n",
    "        rho = rhop1\n",
    "        \n",
    "        d = r + beta*dk\n",
    "        Ad = matrixA_2D(d)[0]\n",
    "        sigma = numpy.sum(d*Ad)\n",
    "    \n",
    "        \n",
    "        l1_norm = L1norm(psik,psi)\n",
    "        normpsi_list[iterations]= l1_norm\n",
    "        iterations += 1\n",
    "             #BC\n",
    "        psi[-2,:]=psi[-3,:]/4-dy/2\n",
    "        psi[:,1]=psi[:,2]/4\n",
    "        psi[:,-2]=psi[:,-3]/4\n",
    "        psi[1,:]=psi[2,:]/4\n",
    "        \n",
    "    iter_list = numpy.linspace(1,iterations,iterations-1)\n",
    "    print('Number of iterations: {0:d}'.format(iterations))\n",
    "    print('L1 Norm for psi: ',l1_norm)\n",
    "    return psi,iter_list,normpsi_list,iterations "
   ]
  },
  {
   "cell_type": "code",
   "execution_count": null,
   "metadata": {
    "collapsed": false
   },
   "outputs": [],
   "source": [
    "x9 = numpy.linspace(0,1,nx)\n",
    "y9 = numpy.linspace(0,1,ny)\n",
    "psi9=numpy.zeros((ny,nx))\n",
    "psi9,iterlistCG,normpsilistCG,iterationsCG=Biharmonic2D(psi9.copy())\n",
    "plot_3D(x9,y9,psi9,'Streamfunction')\n",
    "colormap(x9,y9,psi9,'Streamfunction')"
   ]
  },
  {
   "cell_type": "code",
   "execution_count": null,
   "metadata": {
    "collapsed": false
   },
   "outputs": [],
   "source": [
    "#Vérification de la solution:\n",
    "print(numpy.round(numpy.max(numpy.abs(psi9[1:-1,1:-1])),4))\n",
    "print(numpy.round(psi9[32,::8], 4))"
   ]
  },
  {
   "cell_type": "markdown",
   "metadata": {
    "collapsed": false
   },
   "source": [
    "On voit que les valeurs obtenues ne sont pas les valeurs exactes obtenues par les autres méthodes (déviation de l'ordre de 1-10%)."
   ]
  },
  {
   "cell_type": "markdown",
   "metadata": {
    "collapsed": true
   },
   "source": [
    "De plus, on observe des pics sur les coins de la fonction que l'on obtenait pas avant: ceux-ci sont probablement dû au fait qu'on a pas traité les coins de manière différente que les bords et que cela semble avoir une influence ici."
   ]
  },
  {
   "cell_type": "code",
   "execution_count": null,
   "metadata": {
    "collapsed": false
   },
   "outputs": [],
   "source": [
    "pyplot.figure(figsize=(15,10))\n",
    "pyplot.semilogy(normpsilistCG[:iterationsCG-1], color='#003366',label='Conjugate gradient')\n",
    "pyplot.xlabel('Number of iterations', fontsize=14)\n",
    "pyplot.ylabel('L1 Norm', fontsize=14)\n",
    "pyplot.legend(loc='upper right',fontsize=14)\n",
    "pyplot.close;"
   ]
  },
  {
   "cell_type": "code",
   "execution_count": null,
   "metadata": {
    "collapsed": true
   },
   "outputs": [],
   "source": [
    "def matrixA_2D_bis(psi):\n",
    "    ny, nx = psi.shape\n",
    "    Apsi = numpy.zeros((ny,nx))\n",
    "   \n",
    "\n",
    "    psi[-2,:]=psi[-3,:]/4-dy/2\n",
    "    psi[:,1]=psi[:,2]/4\n",
    "    psi[:,-2]=psi[:,-3]/4\n",
    "    psi[1,:]=psi[2,:]/4\n",
    "    \n",
    "    Apsi[2:-2,2:-2] = ((psi[2:-2,:-4]+psi[2:-2,4:]+psi[:-4,2:-2]+psi[4:,2:-2])\\\n",
    "                    +2*(psi[1:-3,1:-3]+psi[3:-1,1:-3]+psi[1:-3,3:-1]+psi[3:-1,3:-1])\\\n",
    "                    -8*(psi[2:-2,1:-3]+psi[2:-2,3:-1]+psi[1:-3,2:-2]+psi[3:-1,2:-2])\\\n",
    "                    +20*psi[2:-2,2:-2])/(dx**4)\n",
    "    \n",
    "    return Apsi"
   ]
  },
  {
   "cell_type": "code",
   "execution_count": null,
   "metadata": {
    "collapsed": true
   },
   "outputs": [],
   "source": [
    "def Biharmonic2D_bis(psi):\n",
    "\n",
    "    ny, nx = psi.shape\n",
    "    r  = numpy.zeros((ny,nx)) # residual\n",
    "    Ad  = numpy.zeros((ny,nx)) # to store result of matrix multiplication \n",
    "    \n",
    "    l1_norm = 1\n",
    "    iterations = 0\n",
    "    normpsi_list=numpy.zeros(1000000)\n",
    "    \n",
    "    # Step-0 We compute the initial residual and \n",
    "    # the first search direction is just this residual\n",
    "\n",
    "    Ad = matrixA_2D_bis(psi)\n",
    "    #psi[-2,:]=psi[-3,:]/4\n",
    "    r =  - Ad\n",
    "    d = r.copy()\n",
    "    rho = numpy.sum(r*r)\n",
    "    Ad = matrixA_2D_bis(d)\n",
    "    sigma = numpy.sum(d*Ad)\n",
    "    \n",
    "    # Iterations\n",
    "    while l1_norm > l1_target2:\n",
    "\n",
    "        psik = psi.copy()\n",
    "        rk = r.copy()\n",
    "        dk = d.copy()\n",
    "        \n",
    "        alpha = rho/sigma\n",
    "\n",
    "        psi = psik + alpha*dk\n",
    "        \n",
    "        r = rk- alpha*Ad\n",
    "        \n",
    "        rhop1 = numpy.sum(r*r)\n",
    "        beta = rhop1 / rho\n",
    "        rho = rhop1\n",
    "        \n",
    "        d = r + beta*dk\n",
    "        psi[-2,:]=psi[-3,:]/4\n",
    "        psi[:,1]=psi[:,2]/4\n",
    "        psi[:,-2]=psi[:,-3]/4\n",
    "        psi[1,:]=psi[2,:]/4\n",
    "        Ad = matrixA_2D_bis(d)\n",
    "        sigma = numpy.sum(d*Ad)\n",
    "    \n",
    "        \n",
    "        l1_norm = L1norm(psik,psi)\n",
    "        normpsi_list[iterations]= l1_norm\n",
    "        iterations += 1\n",
    "        \n",
    "    iter_list = numpy.linspace(1,iterations,iterations-1)\n",
    "    print('Number of iterations: {0:d}'.format(iterations))\n",
    "    print('L1 Norm for psi: ',l1_norm)\n",
    "    return psi,iter_list,normpsi_list,iterations "
   ]
  },
  {
   "cell_type": "code",
   "execution_count": null,
   "metadata": {
    "collapsed": false
   },
   "outputs": [],
   "source": [
    "x_CG2 = numpy.linspace(0,1,101)\n",
    "y_CG2 = numpy.linspace(0,1,101)\n",
    "psi_CG2=numpy.zeros((101,101))\n",
    "psi_CG2,iterlistCG,normpsilistCG2,iterationsCG2=Biharmonic2D_bis(psi_CG2.copy())\n",
    "plot_3D(x_CG2,y_CG2,psi_CG2,'Streamfunction')\n",
    "colormap(x_CG2,y_CG2,psi_CG2,'Streamfunction')"
   ]
  },
  {
   "cell_type": "code",
   "execution_count": null,
   "metadata": {
    "collapsed": false
   },
   "outputs": [],
   "source": [
    "#Vérification de la solution:\n",
    "print(numpy.round(numpy.max(numpy.abs(psi_CG2[1:-1,1:-1])),4))\n",
    "print(numpy.round(psi_CG2[32,::8], 4))"
   ]
  },
  {
   "cell_type": "code",
   "execution_count": null,
   "metadata": {
    "collapsed": false
   },
   "outputs": [],
   "source": [
    "pyplot.figure(figsize=(10,7))\n",
    "pyplot.semilogy(normpsilistCG[:iterationsCG-1], color='#003366',label='Conjugate gradient')\n",
    "pyplot.xlabel('Number of iterations', fontsize=14)\n",
    "pyplot.ylabel('L1 Norm', fontsize=14)\n",
    "pyplot.legend(loc='upper right',fontsize=14)\n",
    "pyplot.close;"
   ]
  },
  {
   "cell_type": "markdown",
   "metadata": {},
   "source": [
    "## 6. Conclusion"
   ]
  },
  {
   "cell_type": "code",
   "execution_count": null,
   "metadata": {
    "collapsed": true
   },
   "outputs": [],
   "source": []
  }
 ],
 "metadata": {
  "anaconda-cloud": {},
  "kernelspec": {
   "display_name": "Python [Root]",
   "language": "python",
   "name": "Python [Root]"
  },
  "language_info": {
   "codemirror_mode": {
    "name": "ipython",
    "version": 3
   },
   "file_extension": ".py",
   "mimetype": "text/x-python",
   "name": "python",
   "nbconvert_exporter": "python",
   "pygments_lexer": "ipython3",
   "version": "3.4.5"
  }
 },
 "nbformat": 4,
 "nbformat_minor": 1
}
